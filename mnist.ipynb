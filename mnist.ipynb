{
 "cells": [
  {
   "cell_type": "code",
   "execution_count": 7,
   "metadata": {},
   "outputs": [
    {
     "name": "stderr",
     "output_type": "stream",
     "text": [
      "c:\\Users\\DELL\\anaconda3\\envs\\tf\\lib\\site-packages\\tqdm\\auto.py:22: TqdmWarning: IProgress not found. Please update jupyter and ipywidgets. See https://ipywidgets.readthedocs.io/en/stable/user_install.html\n",
      "  from .autonotebook import tqdm as notebook_tqdm\n"
     ]
    }
   ],
   "source": [
    "import numpy as np\n",
    "import tensorflow as tf\n",
    "import tensorflow_datasets as tfds"
   ]
  },
  {
   "cell_type": "code",
   "execution_count": 8,
   "metadata": {},
   "outputs": [],
   "source": [
    "mnist_dataset, mnist_info=tfds.load(name='mnist', as_supervised=True, with_info=True)\n",
    "mnist_train= mnist_dataset['train']\n",
    "mnist_test=mnist_dataset['test']\n",
    "num_validation_samples=0.1*mnist_info.splits['train'].num_examples\n",
    "num_validation_samples=tf.cast(num_validation_samples,tf.int64)\n",
    "\n",
    "num_test_samples=mnist_info.splits['test'].num_examples\n",
    "num_test_samples=tf.cast(num_test_samples, tf.int64)#converting to integer\n",
    "\n",
    "def scale(image,label):#transforming our data\n",
    "    image=tf.cast(image,tf.float32) #making sure it is a float value\n",
    "    image/=255.#dot in end specifies we want it to be float\n",
    "    return image,label\n",
    "\n",
    "scaled_train_and_validation_data=mnist_train.map(scale)\n",
    "\n",
    "test_data= mnist_test.map(scale)\n",
    "\n",
    "buffer_size=10000\n",
    "\n",
    "shuffled_train_and_validation_data=scaled_train_and_validation_data.shuffle(buffer_size)\n",
    "validation_data=shuffled_train_and_validation_data.skip(num_validation_samples)\n",
    "train_data = shuffled_train_and_validation_data.skip(num_validation_samples)\n",
    "batch_size=100\n",
    "train_data= train_data.batch(batch_size)\n",
    "validation_data=validation_data.batch(num_validation_samples)\n",
    "test_data=test_data.batch(num_test_samples)\n",
    "\n",
    "validation_inputs, validation_targets=next(iter(validation_data))"
   ]
  },
  {
   "cell_type": "code",
   "execution_count": 14,
   "metadata": {},
   "outputs": [],
   "source": [
    "input_size=784\n",
    "output_size=10\n",
    "hidden_layer_size=100\n",
    "\n",
    "model=tf.keras.Sequential([\n",
    "    tf.keras.layers.Flatten(input_shape=(28,28,1)),\n",
    "    tf.keras.layers.Dense(hidden_layer_size, activation='relu'),\n",
    "    tf.keras.layers.Dense(hidden_layer_size, activation='relu'),\n",
    "    tf.keras.layers.Dense(output_size,activation='softmax')\n",
    "])"
   ]
  },
  {
   "cell_type": "code",
   "execution_count": 15,
   "metadata": {},
   "outputs": [],
   "source": [
    "model.compile(optimizer='adam',loss='sparse_categorical_crossentropy', metrics=['accuracy'])"
   ]
  },
  {
   "cell_type": "code",
   "execution_count": 16,
   "metadata": {},
   "outputs": [
    {
     "name": "stdout",
     "output_type": "stream",
     "text": [
      "Epoch 1/5\n",
      "540/540 - 2s - loss: 0.3268 - accuracy: 0.9079 - val_loss: 0.1742 - val_accuracy: 0.9497 - 2s/epoch - 4ms/step\n",
      "Epoch 2/5\n",
      "540/540 - 1s - loss: 0.1409 - accuracy: 0.9593 - val_loss: 0.1082 - val_accuracy: 0.9668 - 1s/epoch - 3ms/step\n",
      "Epoch 3/5\n",
      "540/540 - 1s - loss: 0.0976 - accuracy: 0.9705 - val_loss: 0.0790 - val_accuracy: 0.9780 - 1s/epoch - 3ms/step\n",
      "Epoch 4/5\n",
      "540/540 - 2s - loss: 0.0762 - accuracy: 0.9768 - val_loss: 0.0616 - val_accuracy: 0.9823 - 2s/epoch - 3ms/step\n",
      "Epoch 5/5\n",
      "540/540 - 2s - loss: 0.0606 - accuracy: 0.9819 - val_loss: 0.0551 - val_accuracy: 0.9842 - 2s/epoch - 3ms/step\n"
     ]
    },
    {
     "data": {
      "text/plain": [
       "<keras.callbacks.History at 0x2ca4bf41a00>"
      ]
     },
     "execution_count": 16,
     "metadata": {},
     "output_type": "execute_result"
    }
   ],
   "source": [
    "num_epox=5\n",
    "model.fit(train_data, epochs=num_epox, validation_data=(validation_inputs,validation_targets), verbose=2)"
   ]
  },
  {
   "cell_type": "code",
   "execution_count": 18,
   "metadata": {},
   "outputs": [
    {
     "name": "stdout",
     "output_type": "stream",
     "text": [
      "1/1 [==============================] - 0s 119ms/step - loss: 0.0812 - accuracy: 0.9746\n"
     ]
    }
   ],
   "source": [
    "test_loss, test_accuracy=model.evaluate(test_data)"
   ]
  },
  {
   "cell_type": "code",
   "execution_count": null,
   "metadata": {},
   "outputs": [],
   "source": []
  }
 ],
 "metadata": {
  "interpreter": {
   "hash": "fdfb8a1f394592e3ba991fd2160df46ff70ae4fa97f4dfb0a1523b3761ff6280"
  },
  "kernelspec": {
   "display_name": "Python 3.9.12 ('tf')",
   "language": "python",
   "name": "python3"
  },
  "language_info": {
   "codemirror_mode": {
    "name": "ipython",
    "version": 3
   },
   "file_extension": ".py",
   "mimetype": "text/x-python",
   "name": "python",
   "nbconvert_exporter": "python",
   "pygments_lexer": "ipython3",
   "version": "3.8.13"
  },
  "orig_nbformat": 4
 },
 "nbformat": 4,
 "nbformat_minor": 2
}
